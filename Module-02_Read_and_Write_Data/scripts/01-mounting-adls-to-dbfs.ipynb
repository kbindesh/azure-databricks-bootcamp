{
 "cells": [
  {
   "cell_type": "markdown",
   "metadata": {},
   "source": [
    "### Mounting ADLS to DBFS\n",
    "\n",
    "- https://learn.microsoft.com/en-us/azure/databricks/dev-tools/databricks-utils\n"
   ]
  },
  {
   "cell_type": "code",
   "execution_count": 5,
   "metadata": {},
   "outputs": [],
   "source": [
    "from pyspark.sql import SparkSession"
   ]
  },
  {
   "cell_type": "code",
   "execution_count": 6,
   "metadata": {},
   "outputs": [],
   "source": [
    "# Variables\n",
    "storageAccount=\"binadlsgen2storage\"\n",
    "mountpoint = \"/mnt/Gen2\"\n",
    "storageEndPoint =\"abfss://rawdata@{}.dfs.core.windows.net/\".format(storageAccount)"
   ]
  },
  {
   "cell_type": "code",
   "execution_count": 7,
   "metadata": {},
   "outputs": [
    {
     "name": "stdout",
     "output_type": "stream",
     "text": [
      "Mount Point =/mnt/Gen2\n"
     ]
    }
   ],
   "source": [
    "print ('Mount Point ='+mountpoint)"
   ]
  },
  {
   "cell_type": "code",
   "execution_count": 8,
   "metadata": {},
   "outputs": [],
   "source": [
    "# ClientId, TenantId and Secret is for the Application(ADLSGen2App), we created as part of this lab\n",
    "clientID =\"xxx-xx-xx-xx-xxx\"\n",
    "tenantID =\"xx-xx-xx-xx-xx\"\n",
    "clientSecret =\"xxx-xx-xxxxx\"\n",
    "oauth2Endpoint = \"https://login.microsoftonline.com/{}/oauth2/token\".format(tenantID)"
   ]
  },
  {
   "cell_type": "code",
   "execution_count": 9,
   "metadata": {},
   "outputs": [],
   "source": [
    "configs = {\"fs.azure.account.auth.type\": \"OAuth\",\n",
    "           \"fs.azure.account.oauth.provider.type\": \"org.apache.hadoop.fs.azurebfs.oauth2.ClientCredsTokenProvider\",\n",
    "           \"fs.azure.account.oauth2.client.id\": clientID,\n",
    "           \"fs.azure.account.oauth2.client.secret\": clientSecret,\n",
    "           \"fs.azure.account.oauth2.client.endpoint\": oauth2Endpoint}"
   ]
  },
  {
   "cell_type": "code",
   "execution_count": 10,
   "metadata": {},
   "outputs": [
    {
     "name": "stdout",
     "output_type": "stream",
     "text": [
      "Already mounted..../mnt/Gen2\n"
     ]
    }
   ],
   "source": [
    "# Mount the ADLS to DBFS\n",
    "try:\n",
    "  dbutils.fs.mount(\n",
    "  source = storageEndPoint,\n",
    "  mount_point = mountpoint,\n",
    "  extra_configs = configs)\n",
    "except:\n",
    "    print(\"Already mounted....\"+mountpoint)"
   ]
  },
  {
   "cell_type": "code",
   "execution_count": null,
   "metadata": {},
   "outputs": [],
   "source": [
    "%fs ls /mnt/Gen2\n"
   ]
  },
  {
   "cell_type": "code",
   "execution_count": null,
   "metadata": {},
   "outputs": [],
   "source": [
    "display(dbutils.fs.ls(\"/mnt/Gen2\"))"
   ]
  },
  {
   "cell_type": "code",
   "execution_count": null,
   "metadata": {},
   "outputs": [],
   "source": [
    "df_ord= spark.read.format(\"csv\").option(\"header\",True).load(\"dbfs:/mnt/Gen2/Orders.csv\")"
   ]
  },
  {
   "cell_type": "code",
   "execution_count": null,
   "metadata": {},
   "outputs": [],
   "source": [
    "display(df_ord)"
   ]
  },
  {
   "cell_type": "code",
   "execution_count": null,
   "metadata": {},
   "outputs": [],
   "source": [
    "# Unmount the mount point\n",
    "dbutils.fs.unmount(\"/mnt/Gen2\")"
   ]
  },
  {
   "cell_type": "markdown",
   "metadata": {},
   "source": [
    "### Using Storage Account AccessKey for authentication to read files from ADLS Gen-2"
   ]
  },
  {
   "cell_type": "code",
   "execution_count": 11,
   "metadata": {},
   "outputs": [
    {
     "name": "stdout",
     "output_type": "stream",
     "text": [
      "fs.azure.account.key.binstoragegen2.dfs.core.windows.net\n"
     ]
    }
   ],
   "source": [
    "# Variables - Stroring ADLS Gen-2 account name, access key details\n",
    "storageaccount=\"binstoragegen2\"\n",
    "acct_info=f\"fs.azure.account.key.{storageaccount}.dfs.core.windows.net\"\n",
    "accesskey=\"xxx-xxx-xxxxxx-xxx\"\n",
    " \n",
    "print(acct_info)"
   ]
  },
  {
   "cell_type": "code",
   "execution_count": null,
   "metadata": {},
   "outputs": [],
   "source": [
    "# Setting account credentials in the notebook session configs\n",
    "spark.conf.set(\n",
    "  acct_info,\n",
    "  accesskey\n",
    "  )"
   ]
  },
  {
   "cell_type": "code",
   "execution_count": null,
   "metadata": {},
   "outputs": [],
   "source": [
    "dbutils.fs.ls(\"abfss://rawdata@binstoragegen2.dfs.core.windows.net/Orders.csv\")\n"
   ]
  },
  {
   "cell_type": "code",
   "execution_count": null,
   "metadata": {},
   "outputs": [],
   "source": [
    "ordersDF =spark.read.format(\"csv\").option(\"header\",True).load(\"abfss://rawdata@binstoragegen2.dfs.core.windows.net/Orders.csv\")"
   ]
  },
  {
   "cell_type": "code",
   "execution_count": null,
   "metadata": {},
   "outputs": [],
   "source": [
    "display(ordersDF)"
   ]
  }
 ],
 "metadata": {
  "kernelspec": {
   "display_name": "Python 3",
   "language": "python",
   "name": "python3"
  },
  "language_info": {
   "codemirror_mode": {
    "name": "ipython",
    "version": 3
   },
   "file_extension": ".py",
   "mimetype": "text/x-python",
   "name": "python",
   "nbconvert_exporter": "python",
   "pygments_lexer": "ipython3",
   "version": "3.11.9"
  }
 },
 "nbformat": 4,
 "nbformat_minor": 2
}
