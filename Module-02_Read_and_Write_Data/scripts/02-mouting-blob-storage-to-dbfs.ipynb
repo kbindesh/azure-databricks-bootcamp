{
 "cells": [
  {
   "cell_type": "markdown",
   "metadata": {},
   "source": [
    "### Mouting Azure Blob Storage to Azure Databricks DBFS"
   ]
  },
  {
   "cell_type": "code",
   "execution_count": 3,
   "metadata": {},
   "outputs": [],
   "source": [
    "# Variables - Storage account and key you will get it from the portal as shown in the Cookbook Recipe.\n",
    "storageAccount=\"binblobstorage\"\n",
    "storageKey =\"xx-xx-xxx\"\n",
    "mountpoint = \"/mnt/Blob\"\n",
    "storageEndpoint =   \"wasbs://rawdata@{}.blob.core.windows.net\".format(storageAccount)\n",
    "storageConnSting = \"fs.azure.account.key.{}.blob.core.windows.net\".format(storageAccount)"
   ]
  },
  {
   "cell_type": "code",
   "execution_count": null,
   "metadata": {},
   "outputs": [],
   "source": [
    "try:\n",
    "  dbutils.fs.mount(\n",
    "  source = storageEndpoint,\n",
    "  mount_point = mountpoint,\n",
    "  extra_configs = {storageConnSting:storageKey})\n",
    "except:\n",
    "    print(\"Already mounted....\"+mountpoint)"
   ]
  },
  {
   "cell_type": "code",
   "execution_count": null,
   "metadata": {},
   "outputs": [],
   "source": [
    "%fs ls /mnt/Blob"
   ]
  },
  {
   "cell_type": "code",
   "execution_count": null,
   "metadata": {},
   "outputs": [],
   "source": [
    "display(dbutils.fs.ls(\"/mnt/Blob\"))"
   ]
  },
  {
   "cell_type": "code",
   "execution_count": null,
   "metadata": {},
   "outputs": [],
   "source": [
    "# Read data from csv file which is copied to Blob Storage\n",
    "df_ord= spark.read.format(\"csv\").option(\"header\",True).load(\"dbfs:/mnt/Blob/Orders.csv\")"
   ]
  },
  {
   "cell_type": "code",
   "execution_count": null,
   "metadata": {},
   "outputs": [],
   "source": [
    "dbutils.fs.unmount(\"/mnt/Blob\")"
   ]
  }
 ],
 "metadata": {
  "kernelspec": {
   "display_name": "Python 3",
   "language": "python",
   "name": "python3"
  },
  "language_info": {
   "codemirror_mode": {
    "name": "ipython",
    "version": 3
   },
   "file_extension": ".py",
   "mimetype": "text/x-python",
   "name": "python",
   "nbconvert_exporter": "python",
   "pygments_lexer": "ipython3",
   "version": "3.11.9"
  }
 },
 "nbformat": 4,
 "nbformat_minor": 2
}
