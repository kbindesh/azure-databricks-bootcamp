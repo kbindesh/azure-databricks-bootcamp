{
 "cells": [
  {
   "cell_type": "markdown",
   "metadata": {},
   "source": [
    "### PySpark GroupBy and Aggregate Functions"
   ]
  },
  {
   "cell_type": "code",
   "execution_count": 2,
   "metadata": {},
   "outputs": [],
   "source": [
    "from pyspark.sql import SparkSession"
   ]
  },
  {
   "cell_type": "code",
   "execution_count": 3,
   "metadata": {},
   "outputs": [],
   "source": [
    "spark = SparkSession.builder.appName('AggregateFunctions').getOrCreate()"
   ]
  },
  {
   "cell_type": "code",
   "execution_count": 4,
   "metadata": {},
   "outputs": [],
   "source": [
    "csv_df = spark.read.csv('../datasets/country_wise_latest.csv', header=True, inferSchema=True)"
   ]
  },
  {
   "cell_type": "code",
   "execution_count": 5,
   "metadata": {},
   "outputs": [
    {
     "data": {
      "text/html": [
       "\n",
       "            <div>\n",
       "                <p><b>SparkSession - in-memory</b></p>\n",
       "                \n",
       "        <div>\n",
       "            <p><b>SparkContext</b></p>\n",
       "\n",
       "            <p><a href=\"http://192.168.1.33:4041\">Spark UI</a></p>\n",
       "\n",
       "            <dl>\n",
       "              <dt>Version</dt>\n",
       "                <dd><code>v3.4.3</code></dd>\n",
       "              <dt>Master</dt>\n",
       "                <dd><code>local[*]</code></dd>\n",
       "              <dt>AppName</dt>\n",
       "                <dd><code>AggregateFunctions</code></dd>\n",
       "            </dl>\n",
       "        </div>\n",
       "        \n",
       "            </div>\n",
       "        "
      ],
      "text/plain": [
       "<pyspark.sql.session.SparkSession at 0x1cad335fe10>"
      ]
     },
     "execution_count": 5,
     "metadata": {},
     "output_type": "execute_result"
    }
   ],
   "source": [
    "spark"
   ]
  },
  {
   "cell_type": "code",
   "execution_count": 5,
   "metadata": {},
   "outputs": [
    {
     "name": "stdout",
     "output_type": "stream",
     "text": [
      "+-------------------+---------+------+---------+------+---------+----------+-------------+--------------------+\n",
      "|     Country/Region|Confirmed|Deaths|Recovered|Active|New cases|New deaths|New recovered|          WHO Region|\n",
      "+-------------------+---------+------+---------+------+---------+----------+-------------+--------------------+\n",
      "|        Afghanistan|    36263|  1269|    25198|  9796|      106|        10|           18|Eastern Mediterra...|\n",
      "|            Albania|     4880|   144|     2745|  1991|      117|         6|           63|              Europe|\n",
      "|            Algeria|    27973|  1163|    18837|  7973|      616|         8|          749|              Africa|\n",
      "|            Andorra|      907|    52|      803|    52|       10|         0|            0|              Europe|\n",
      "|             Angola|      950|    41|      242|   667|       18|         1|            0|              Africa|\n",
      "|Antigua and Barbuda|       86|     3|       65|    18|        4|         0|            5|            Americas|\n",
      "|          Argentina|   167416|  3059|    72575| 91782|     4890|       120|         2057|            Americas|\n",
      "|            Armenia|    37390|   711|    26665| 10014|       73|         6|          187|              Europe|\n",
      "|          Australia|    15303|   167|     9311|  5825|      368|         6|          137|     Western Pacific|\n",
      "|            Austria|    20558|   713|    18246|  1599|       86|         1|           37|              Europe|\n",
      "|         Azerbaijan|    30446|   423|    23242|  6781|      396|         6|          558|              Europe|\n",
      "|            Bahamas|      382|    11|       91|   280|       40|         0|            0|            Americas|\n",
      "|            Bahrain|    39482|   141|    36110|  3231|      351|         1|          421|Eastern Mediterra...|\n",
      "|         Bangladesh|   226225|  2965|   125683| 97577|     2772|        37|         1801|     South-East Asia|\n",
      "|           Barbados|      110|     7|       94|     9|        0|         0|            0|            Americas|\n",
      "|            Belarus|    67251|   538|    60492|  6221|      119|         4|           67|              Europe|\n",
      "|            Belgium|    66428|  9822|    17452| 39154|      402|         1|           14|              Europe|\n",
      "|             Belize|       48|     2|       26|    20|        0|         0|            0|            Americas|\n",
      "|              Benin|     1770|    35|     1036|   699|        0|         0|            0|              Africa|\n",
      "|             Bhutan|       99|     0|       86|    13|        4|         0|            1|     South-East Asia|\n",
      "+-------------------+---------+------+---------+------+---------+----------+-------------+--------------------+\n",
      "only showing top 20 rows\n",
      "\n"
     ]
    }
   ],
   "source": [
    "csv_df.show()"
   ]
  },
  {
   "cell_type": "code",
   "execution_count": 6,
   "metadata": {},
   "outputs": [
    {
     "name": "stdout",
     "output_type": "stream",
     "text": [
      "root\n",
      " |-- Country/Region: string (nullable = true)\n",
      " |-- Confirmed: integer (nullable = true)\n",
      " |-- Deaths: integer (nullable = true)\n",
      " |-- Recovered: integer (nullable = true)\n",
      " |-- Active: integer (nullable = true)\n",
      " |-- New cases: integer (nullable = true)\n",
      " |-- New deaths: integer (nullable = true)\n",
      " |-- New recovered: integer (nullable = true)\n",
      " |-- WHO Region: string (nullable = true)\n",
      "\n"
     ]
    }
   ],
   "source": [
    "csv_df.printSchema()"
   ]
  },
  {
   "cell_type": "code",
   "execution_count": 6,
   "metadata": {},
   "outputs": [
    {
     "name": "stdout",
     "output_type": "stream",
     "text": [
      "+--------------+--------------+-----------+--------------+-----------+--------------+---------------+------------------+\n",
      "|Country/Region|sum(Confirmed)|sum(Deaths)|sum(Recovered)|sum(Active)|sum(New cases)|sum(New deaths)|sum(New recovered)|\n",
      "+--------------+--------------+-----------+--------------+-----------+--------------+---------------+------------------+\n",
      "|          Chad|           922|         75|           810|         37|             7|              0|                 0|\n",
      "|      Paraguay|          4548|         43|          2905|       1600|           104|              2|               111|\n",
      "|        Russia|        816680|      13334|        602249|     201097|          5607|             85|              3077|\n",
      "|         Yemen|          1691|        483|           833|        375|            10|              4|                36|\n",
      "|       Senegal|          9764|        194|          6477|       3093|            83|              3|                68|\n",
      "|    Cabo Verde|          2328|         22|          1550|        756|            21|              0|               103|\n",
      "|        Sweden|         79395|       5700|             0|      73695|           398|              3|                 0|\n",
      "|        Guyana|           389|         20|           181|        188|            19|              0|                 0|\n",
      "|         Burma|           350|          6|           292|         52|             0|              0|                 2|\n",
      "|       Eritrea|           265|          0|           191|         74|             2|              0|                 2|\n",
      "|   Philippines|         82040|       1945|         26446|      53649|          1592|             13|               336|\n",
      "|      Djibouti|          5059|         58|          4977|         24|             9|              0|                11|\n",
      "|      Malaysia|          8904|        124|          8601|        179|             7|              0|                 1|\n",
      "|     Singapore|         50838|         27|         45692|       5119|           469|              0|               171|\n",
      "|          Fiji|            27|          0|            18|          9|             0|              0|                 0|\n",
      "|        Turkey|        227019|       5630|        210469|      10920|           919|             17|               982|\n",
      "|        Malawi|          3664|         99|          1645|       1920|            24|              0|                 6|\n",
      "|Western Sahara|            10|          1|             8|          1|             0|              0|                 0|\n",
      "|          Iraq|        112585|       4458|         77144|      30983|          2553|             96|              1927|\n",
      "|       Germany|        207112|       9125|        190314|       7673|           445|              1|               259|\n",
      "+--------------+--------------+-----------+--------------+-----------+--------------+---------------+------------------+\n",
      "only showing top 20 rows\n",
      "\n"
     ]
    }
   ],
   "source": [
    "# Calculate the Total # of cases in a particular country | Use GroupBy function\n",
    "csv_df.groupBy('Country/Region').sum().show()"
   ]
  },
  {
   "cell_type": "code",
   "execution_count": 7,
   "metadata": {},
   "outputs": [
    {
     "name": "stdout",
     "output_type": "stream",
     "text": [
      "+--------------+--------------+-----------+--------------+-----------+--------------+---------------+------------------+\n",
      "|Country/Region|max(Confirmed)|max(Deaths)|max(Recovered)|max(Active)|max(New cases)|max(New deaths)|max(New recovered)|\n",
      "+--------------+--------------+-----------+--------------+-----------+--------------+---------------+------------------+\n",
      "|          Chad|           922|         75|           810|         37|             7|              0|                 0|\n",
      "|      Paraguay|          4548|         43|          2905|       1600|           104|              2|               111|\n",
      "|        Russia|        816680|      13334|        602249|     201097|          5607|             85|              3077|\n",
      "|         Yemen|          1691|        483|           833|        375|            10|              4|                36|\n",
      "|       Senegal|          9764|        194|          6477|       3093|            83|              3|                68|\n",
      "|    Cabo Verde|          2328|         22|          1550|        756|            21|              0|               103|\n",
      "|        Sweden|         79395|       5700|             0|      73695|           398|              3|                 0|\n",
      "|        Guyana|           389|         20|           181|        188|            19|              0|                 0|\n",
      "|         Burma|           350|          6|           292|         52|             0|              0|                 2|\n",
      "|       Eritrea|           265|          0|           191|         74|             2|              0|                 2|\n",
      "|   Philippines|         82040|       1945|         26446|      53649|          1592|             13|               336|\n",
      "|      Djibouti|          5059|         58|          4977|         24|             9|              0|                11|\n",
      "|      Malaysia|          8904|        124|          8601|        179|             7|              0|                 1|\n",
      "|     Singapore|         50838|         27|         45692|       5119|           469|              0|               171|\n",
      "|          Fiji|            27|          0|            18|          9|             0|              0|                 0|\n",
      "|        Turkey|        227019|       5630|        210469|      10920|           919|             17|               982|\n",
      "|        Malawi|          3664|         99|          1645|       1920|            24|              0|                 6|\n",
      "|Western Sahara|            10|          1|             8|          1|             0|              0|                 0|\n",
      "|          Iraq|        112585|       4458|         77144|      30983|          2553|             96|              1927|\n",
      "|       Germany|        207112|       9125|        190314|       7673|           445|              1|               259|\n",
      "+--------------+--------------+-----------+--------------+-----------+--------------+---------------+------------------+\n",
      "only showing top 20 rows\n",
      "\n"
     ]
    }
   ],
   "source": [
    "# Get the maximum no of cases reported in a country\n",
    "csv_df.groupBy('Country/Region').max().show()"
   ]
  },
  {
   "cell_type": "code",
   "execution_count": 11,
   "metadata": {},
   "outputs": [
    {
     "name": "stdout",
     "output_type": "stream",
     "text": [
      "+-------------------+--------------+-----------+--------------+-----------+--------------+---------------+------------------+\n",
      "|     Country/Region|min(Confirmed)|min(Deaths)|min(Recovered)|min(Active)|min(New cases)|min(New deaths)|min(New recovered)|\n",
      "+-------------------+--------------+-----------+--------------+-----------+--------------+---------------+------------------+\n",
      "|        Afghanistan|         36263|       1269|         25198|       9796|           106|             10|                18|\n",
      "|            Albania|          4880|        144|          2745|       1991|           117|              6|                63|\n",
      "|            Algeria|         27973|       1163|         18837|       7973|           616|              8|               749|\n",
      "|            Andorra|           907|         52|           803|         52|            10|              0|                 0|\n",
      "|             Angola|           950|         41|           242|        667|            18|              1|                 0|\n",
      "|Antigua and Barbuda|            86|          3|            65|         18|             4|              0|                 5|\n",
      "|          Argentina|        167416|       3059|         72575|      91782|          4890|            120|              2057|\n",
      "|            Armenia|         37390|        711|         26665|      10014|            73|              6|               187|\n",
      "|          Australia|         15303|        167|          9311|       5825|           368|              6|               137|\n",
      "|            Austria|         20558|        713|         18246|       1599|            86|              1|                37|\n",
      "|         Azerbaijan|         30446|        423|         23242|       6781|           396|              6|               558|\n",
      "|            Bahamas|           382|         11|            91|        280|            40|              0|                 0|\n",
      "|            Bahrain|         39482|        141|         36110|       3231|           351|              1|               421|\n",
      "|         Bangladesh|        226225|       2965|        125683|      97577|          2772|             37|              1801|\n",
      "|           Barbados|           110|          7|            94|          9|             0|              0|                 0|\n",
      "|            Belarus|         67251|        538|         60492|       6221|           119|              4|                67|\n",
      "|            Belgium|         66428|       9822|         17452|      39154|           402|              1|                14|\n",
      "|             Belize|            48|          2|            26|         20|             0|              0|                 0|\n",
      "|              Benin|          1770|         35|          1036|        699|             0|              0|                 0|\n",
      "|             Bhutan|            99|          0|            86|         13|             4|              0|                 1|\n",
      "+-------------------+--------------+-----------+--------------+-----------+--------------+---------------+------------------+\n",
      "only showing top 20 rows\n",
      "\n"
     ]
    }
   ],
   "source": [
    "# Get the minimum no of cases reported in a country\n",
    "csv_df.groupBy('Country/Region').min().show()"
   ]
  },
  {
   "cell_type": "code",
   "execution_count": null,
   "metadata": {},
   "outputs": [],
   "source": [
    "# Get the minimum no of cases reported in a country and Sort it by Country Name\n",
    "csv_df.groupBy('Country/Region').min().sort(\"Country/Region\").show()"
   ]
  }
 ],
 "metadata": {
  "kernelspec": {
   "display_name": "Python 3",
   "language": "python",
   "name": "python3"
  },
  "language_info": {
   "codemirror_mode": {
    "name": "ipython",
    "version": 3
   },
   "file_extension": ".py",
   "mimetype": "text/x-python",
   "name": "python",
   "nbconvert_exporter": "python",
   "pygments_lexer": "ipython3",
   "version": "3.11.9"
  }
 },
 "nbformat": 4,
 "nbformat_minor": 2
}
